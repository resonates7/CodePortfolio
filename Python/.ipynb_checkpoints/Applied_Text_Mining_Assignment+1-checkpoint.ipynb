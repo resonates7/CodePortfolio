{
 "cells": [
  {
   "cell_type": "markdown",
   "metadata": {},
   "source": [
    "---\n",
    "\n",
    "_You are currently looking at **version 1.1** of this notebook. To download notebooks and datafiles, as well as get help on Jupyter notebooks in the Coursera platform, visit the [Jupyter Notebook FAQ](https://www.coursera.org/learn/python-text-mining/resources/d9pwm) course resource._\n",
    "\n",
    "---"
   ]
  },
  {
   "cell_type": "markdown",
   "metadata": {},
   "source": [
    "# Assignment 1\n",
    "\n",
    "In this assignment, you'll be working with messy medical data and using regex to extract relevant infromation from the data. \n",
    "\n",
    "Each line of the `dates.txt` file corresponds to a medical note. Each note has a date that needs to be extracted, but each date is encoded in one of many formats.\n",
    "\n",
    "The goal of this assignment is to correctly identify all of the different date variants encoded in this dataset and to properly normalize and sort the dates. \n",
    "\n",
    "Here is a list of some of the variants you might encounter in this dataset:\n",
    "* 04/20/2009; 04/20/09; 4/20/09; 4/3/09\n",
    "* Mar-20-2009; Mar 20, 2009; March 20, 2009;  Mar. 20, 2009; Mar 20 2009;\n",
    "* 20 Mar 2009; 20 March 2009; 20 Mar. 2009; 20 March, 2009\n",
    "* Mar 20th, 2009; Mar 21st, 2009; Mar 22nd, 2009\n",
    "* Feb 2009; Sep 2009; Oct 2010\n",
    "* 6/2008; 12/2009\n",
    "* 2009; 2010\n",
    "\n",
    "Once you have extracted these date patterns from the text, the next step is to sort them in ascending chronological order accoring to the following rules:\n",
    "* Assume all dates in xx/xx/xx format are mm/dd/yy\n",
    "* Assume all dates where year is encoded in only two digits are years from the 1900's (e.g. 1/5/89 is January 5th, 1989)\n",
    "* If the day is missing (e.g. 9/2009), assume it is the first day of the month (e.g. September 1, 2009).\n",
    "* If the month is missing (e.g. 2010), assume it is the first of January of that year (e.g. January 1, 2010).\n",
    "* Watch out for potential typos as this is a raw, real-life derived dataset.\n",
    "\n",
    "With these rules in mind, find the correct date in each note and return a pandas Series in chronological order of the original Series' indices.\n",
    "\n",
    "For example if the original series was this:\n",
    "\n",
    "    0    1999\n",
    "    1    2010\n",
    "    2    1978\n",
    "    3    2015\n",
    "    4    1985\n",
    "\n",
    "Your function should return this:\n",
    "\n",
    "    0    2\n",
    "    1    4\n",
    "    2    0\n",
    "    3    1\n",
    "    4    3\n",
    "\n",
    "Your score will be calculated using [Kendall's tau](https://en.wikipedia.org/wiki/Kendall_rank_correlation_coefficient), a correlation measure for ordinal data.\n",
    "\n",
    "*This function should return a Series of length 500 and dtype int.*"
   ]
  },
  {
   "cell_type": "code",
   "execution_count": 4,
   "metadata": {},
   "outputs": [
    {
     "data": {
      "text/plain": [
       "0         03/25/93 Total time of visit (in minutes):\\n\n",
       "1                       6/18/85 Primary Care Doctor:\\n\n",
       "2    sshe plans to move as of 7/8/71 In-Home Servic...\n",
       "3                7 on 9/27/75 Audit C Score Current:\\n\n",
       "4    2/6/96 sleep studyPain Treatment Pain Level (N...\n",
       "5                    .Per 7/06/79 Movement D/O note:\\n\n",
       "6    4, 5/18/78 Patient's thoughts about current su...\n",
       "7    10/24/89 CPT Code: 90801 - Psychiatric Diagnos...\n",
       "8                         3/7/86 SOS-10 Total Score:\\n\n",
       "9             (4/10/71)Score-1Audit C Score Current:\\n\n",
       "dtype: object"
      ]
     },
     "execution_count": 4,
     "metadata": {},
     "output_type": "execute_result"
    }
   ],
   "source": [
    "import pandas as pd\n",
    "import re\n",
    "\n",
    "doc = []\n",
    "with open('dates.txt') as file:\n",
    "    for line in file:\n",
    "        doc.append(line)\n",
    "\n",
    "df = pd.Series(doc)\n",
    "df.head(10)"
   ]
  },
  {
   "cell_type": "markdown",
   "metadata": {},
   "source": [
    "## See my copy of this for addition to my code portfolio"
   ]
  },
  {
   "cell_type": "code",
   "execution_count": 6,
   "metadata": {},
   "outputs": [
    {
     "data": {
      "text/plain": [
       "dtype('int64')"
      ]
     },
     "execution_count": 6,
     "metadata": {},
     "output_type": "execute_result"
    }
   ],
   "source": [
    "\n",
    "\n",
    "\n",
    "def date_sorter(df):\n",
    "\n",
    "  \n",
    "    ## establish dataframe\n",
    "    df_t = pd.DataFrame(df)\n",
    "    df_t = df_t.rename(columns={0:'Note'})\n",
    "    \n",
    "    # Regex to extract date infor and generate a date df\n",
    "    #df_date = df_t['Note'].iloc[0:125].str.extractall('(?P<month>\\d{1,4})\\/(?P<day>\\d{1,4})\\/(?P<year>\\d{2,4})')\n",
    "    df_date = df_t['Note'].iloc[0:125].str.extractall('(?P<month>\\d{1,4})[/-](?P<day>\\d{1,4})[/-](?P<year>\\d{2,4})')\n",
    "    df_date2 = df_t['Note'].iloc[125:194].str.extractall('(?P<day>\\d{2}) (?P<month>(?:Jan|Feb|Mar|Apr|May|Jun|Aug|Sep|Oct|Nov|Dec)[a-z]*) (?P<year>\\d{4})')\n",
    "    df_date3 = df_t['Note'].iloc[125:228].str.extractall('(?P<month>(?:Jan|Feb|Mar|Apr|May|Jun|Jul|Aug|Sep|Oct|Nov|Dec)[a-z,.]*) (?P<day>\\d{2})[, ]* (?P<year>\\d{4})')\n",
    "    #only month & year\n",
    "    df_date4 = df_t['Note'].iloc[228:343].str.extractall('(?P<month>(?:Jan|Feb|Mar|Apr|May|Jun|Jul|Aug|Sep|Oct|Nov|Dec)[a-z,]*) (?P<year>\\d{0,4})')\n",
    "    df_date5 = df_t['Note'].iloc[343:455].str.extractall('(?P<month>\\d{1,2})(?P<slash>[\\/])(?P<year>\\d{2,4})')\n",
    "    df_date5=df_date5.drop('slash', axis='columns')\n",
    "    #only year\n",
    "    df_date6 = df_t['Note'].iloc[455:].str.extractall('(?P<year>\\d{4})')\n",
    "    \n",
    "    # concat dataframes and manually correct errors\n",
    "    df_trans = pd.concat([df_date, df_date2, df_date3, df_date4,df_date5, df_date6])    \n",
    "    df_trans.drop((72, 1), axis='rows', inplace=True)\n",
    "    df_trans.drop((254, 0), axis='rows', inplace=True)\n",
    "    df_trans.drop((289, 1), axis='rows', inplace=True)\n",
    "    df_trans.drop((297, 0), axis='rows', inplace=True)\n",
    "    #df_trans.reset_index(inplace=True)\n",
    "    #df_trans = df_trans.drop('match', axis='columns')\n",
    "    \n",
    "    # manually clean data, replace NaN w/ 1's\n",
    "    df_trans = df_trans.fillna(1)\n",
    "\n",
    "    \n",
    "    #correct month names\n",
    "    df_trans['month'] = df_trans['month'].str.strip()\n",
    "    df_trans['month'] = df_trans['month'].apply(lambda x: 1 if (x =='Jan' or x=='January'or x=='January,' or x=='Janaury') else x)\n",
    "    df_trans['month'] = df_trans['month'].apply(lambda x: 2 if (x=='Feb' or x=='February' or x=='February,') else x)\n",
    "    df_trans['month'] = df_trans['month'].apply(lambda x: 3 if (x=='Mar' or x=='March' or x=='Mar.' or x=='Mar,' or x=='March,') else x)\n",
    "    df_trans['month'] = df_trans['month'].apply(lambda x: 4 if (x=='Apr' or x=='April' or x=='Apr,') else x)\n",
    "    df_trans['month'] = df_trans['month'].apply(lambda x: 5 if (x=='May' or x=='May,') else x)\n",
    "    df_trans['month'] = df_trans['month'].apply(lambda x: 6 if (x=='Jun' or x=='June' or x=='June,') else x)\n",
    "    df_trans['month'] = df_trans['month'].apply(lambda x: 7 if (x=='Jul' or x=='July' or x=='July,') else x)\n",
    "    df_trans['month'] = df_trans['month'].apply(lambda x: 8 if (x=='Aug' or x=='August') else x)\n",
    "    df_trans['month'] = df_trans['month'].apply(lambda x: 9 if (x=='Sep' or x=='September' or x=='Sep.' or x=='September.') else x)\n",
    "    df_trans['month'] = df_trans['month'].apply(lambda x: 10 if(x=='Oct' or x=='October' or x=='October.') else x)\n",
    "    df_trans['month'] = df_trans['month'].apply(lambda x: 11 if(x=='Nov' or x=='November') else x)\n",
    "    df_trans['month'] = df_trans['month'].apply(lambda x: 12 if(x=='Dec' or x=='December' or x=='Decemeber') else x)\n",
    "    df_trans = df_trans.fillna(1)\n",
    "    \n",
    "    # convert to numeric\n",
    "    df_trans['year']=pd.to_numeric(df_trans['year'], errors='raise', downcast='integer')\n",
    "    df_trans['day']=pd.to_numeric(df_trans['day'], errors='raise', downcast='integer')\n",
    "    df_trans['month']=pd.to_numeric(df_trans['month'], errors='raise', downcast='integer')\n",
    "    \n",
    "    #convert year\n",
    "    df_trans['year'] = df_trans['year'].apply(lambda x: 1900 + x if(x <100 and x>30) else x)\n",
    "    \n",
    "    #sort\n",
    "    df_trans.sort_values(by=['year', 'month', 'day'], inplace = True)\n",
    "    df_trans.reset_index(inplace=True)\n",
    "    df_s = df_trans['level_0']\n",
    "    \n",
    "#     '''\n",
    "#     https://www.coursera.org/learn/python-text-mining/discussions/weeks/1/threads/9xo_YiTyEeuZ9Q5xsF_ZCQ\n",
    "#     https://www.coursera.org/learn/python-text-mining/discussions/weeks/1/threads/9xo_YiTyEeuZ9Q5xsF_ZCQ\n",
    "#     https://www.coursera.org/learn/python-text-mining/discussions/weeks/1/threads/AoLX8rSbEeiqnRI0WnAb-A\n",
    "#     '''\n",
    "    \n",
    "    return df_s # Your answer here\n",
    "\n",
    "df_trans = date_sorter(df)\n",
    "df_trans.dtypes"
   ]
  },
  {
   "cell_type": "code",
   "execution_count": null,
   "metadata": {
    "collapsed": true
   },
   "outputs": [],
   "source": []
  },
  {
   "cell_type": "code",
   "execution_count": null,
   "metadata": {
    "collapsed": true
   },
   "outputs": [],
   "source": []
  },
  {
   "cell_type": "code",
   "execution_count": null,
   "metadata": {
    "collapsed": true
   },
   "outputs": [],
   "source": []
  },
  {
   "cell_type": "code",
   "execution_count": null,
   "metadata": {
    "collapsed": true
   },
   "outputs": [],
   "source": []
  },
  {
   "cell_type": "code",
   "execution_count": null,
   "metadata": {
    "collapsed": true
   },
   "outputs": [],
   "source": []
  },
  {
   "cell_type": "code",
   "execution_count": null,
   "metadata": {
    "collapsed": true
   },
   "outputs": [],
   "source": []
  },
  {
   "cell_type": "code",
   "execution_count": null,
   "metadata": {
    "collapsed": true
   },
   "outputs": [],
   "source": []
  },
  {
   "cell_type": "code",
   "execution_count": null,
   "metadata": {
    "collapsed": true
   },
   "outputs": [],
   "source": []
  },
  {
   "cell_type": "code",
   "execution_count": null,
   "metadata": {
    "collapsed": true
   },
   "outputs": [],
   "source": []
  }
 ],
 "metadata": {
  "coursera": {
   "course_slug": "python-text-mining",
   "graded_item_id": "LvcWI",
   "launcher_item_id": "krne9",
   "part_id": "Mkp1I"
  },
  "kernelspec": {
   "display_name": "Python 3",
   "language": "python",
   "name": "python3"
  },
  "language_info": {
   "codemirror_mode": {
    "name": "ipython",
    "version": 3
   },
   "file_extension": ".py",
   "mimetype": "text/x-python",
   "name": "python",
   "nbconvert_exporter": "python",
   "pygments_lexer": "ipython3",
   "version": "3.8.5"
  }
 },
 "nbformat": 4,
 "nbformat_minor": 2
}
