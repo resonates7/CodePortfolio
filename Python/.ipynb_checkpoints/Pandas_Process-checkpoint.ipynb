{
 "cells": [
  {
   "cell_type": "markdown",
   "metadata": {},
   "source": [
    "## Using Markdown\n",
    "   * Name notebooks by clicking on name in upper left corner \n",
    "   * [Youtube on using Markdown](https://www.youtube.com/watch?v=uVLzL5E-YBM)"
   ]
  },
  {
   "cell_type": "markdown",
   "metadata": {},
   "source": [
    "# Coding Tips\n",
    "1. Always create a plan\n",
    "2. Plan out what you want to do for big projects.\n",
    "3. Practice reading documentation.\n",
    "4. Keep it simple.\n",
    "5. Get in the Zone ...\n",
    "6. Develop process templates.\n",
    "7. Get in the zone for hours at a time.\n",
    "8. Always learn.\n",
    "9. Ability to debug.\n",
    "10. Ask for help, collaborate.\n",
    "11. YouTubes: Experienced programmer tips.\n",
    "     1. Take Breaks every so often to let your 'contemplative brain' research\n",
    "     2. [Experienced Japanese guy](https://www.youtube.com/watch?v=W8ykZNSLDqE)\n",
    "     3. [Self taught developer](https://www.youtube.com/watch?v=eG7cPN1uRAA)\n",
    "12. UML document for Object Oriented Programming\n",
    "    1. [UML doc example](https://www.youtube.com/watch?v=UI6lqHOVHic)\n",
    "\n",
    "\n",
    "### Press tab when typing to access auto complete\n",
    "    - Jupyter notebooks Shift + Cmd + P to search commands - like to toggle line numbers"
   ]
  },
  {
   "cell_type": "markdown",
   "metadata": {},
   "source": [
    "### Import and clean data"
   ]
  },
  {
   "cell_type": "code",
   "execution_count": 1,
   "metadata": {},
   "outputs": [],
   "source": [
    "import pandas as pd\n",
    "import numpy as np"
   ]
  },
  {
   "cell_type": "code",
   "execution_count": null,
   "metadata": {},
   "outputs": [],
   "source": [
    "raw = pd.read_csv('university_towns.txt', sep='\\n', header=None)\n",
    "in\n",
    "\n",
    "\n",
    "raw.rename(columns ={list(raw)[0]: 'data'}, inplace=True) #name columns without a name\n",
    "\n",
    "raw.index.name = 'qtr'# name index\n",
    "\n",
    "energy = pd.read_excel('Energy Indicators.xls', header = [17], parse_cols=\"C:G\")\n",
    "#exclude spreadsheet footer\n",
    "energy = energy[:227]\n",
    "\n"
   ]
  },
  {
   "cell_type": "markdown",
   "metadata": {},
   "source": [
    "## Clean Data"
   ]
  },
  {
   "cell_type": "code",
   "execution_count": null,
   "metadata": {},
   "outputs": [],
   "source": [
    "# set up prints to see output at every code change\n",
    "# use .head() .info() or .describe(),for data statistics. Use .dtypes to get data types\n",
    "df.info()\n",
    "df.head()\n",
    "men_h.describe() #use .describe() for a series - one column dataframe\n",
    "transactions['quality'].unique() #find unique values in a column\n",
    "\n",
    "#remove na's\n",
    "df.dropna()\n",
    "\n",
    "# manually clean data, replace NaN w/ 1's\n",
    "df_trans['day'] = df_trans['day'].fillna(1)\n",
    "df_trans['month'] = df_trans['month'].fillna(1)\n",
    "\n",
    "#slice w/ iloc, you can get a row by just specifying that row and no columns\n",
    "transform.iloc[[0, 1], [2, 3]]  # slice discrete rows and columns\n",
    "transform.iloc[0:3, 2:3]  # slice range of rows and columns\n",
    "max = b.iloc[-20:] # negative slice, gets the last 20 rows\n",
    "\n",
    "#slice on a subset of column names\n",
    "transform_head[['State', 'RegionName']]\n",
    "\n",
    "# set index\n",
    "trans.set_index('Date', inplace = True)\n",
    "\n",
    "#set multi index\n",
    "trans.set_index(['Day', 'Month'], inplace = True)\n",
    "\n",
    "#transform w/ lambda ifs\n",
    "df_trans['month'] = df_trans['month'].apply(lambda x: 4 if (x=='Apr' or x=='April') else x)"
   ]
  },
  {
   "cell_type": "markdown",
   "metadata": {},
   "source": [
    "## Transform Data\n",
    "\n",
    "##### Useful guides\n",
    "\n",
    "[Guide to Classes, Objects, Attributes, & Methods](https://www.justlearnpython.com/docs/object-oriented-programming/classes-objects-attributes-methods/)\n",
    "\n",
    "[Apply w/ lambdas and filtering data](https://towardsdatascience.com/apply-and-lambda-usage-in-pandas-b13a1ea037f7)\n",
    "\n",
    "[How to find nulls/NaNs](https://www.kite.com/python/answers/how-to-find-rows-with-nan-values-in-a-pandas-dataframe-in-python)\n",
    "\n",
    "[How to make a new column w/ for loop](https://chrisalbon.com/python/data_wrangling/pandas_create_column_with_loop/)\n",
    "\n",
    "[Working w/ column names](https://www.geeksforgeeks.org/how-to-get-column-names-in-pandas-dataframe/)\n",
    "\n",
    "[Resample - for dates](https://www.geeksforgeeks.org/python-pandas-dataframe-resample/)\n",
    "\n",
    "[How to access date time parts using .dt](https://pandas.pydata.org/pandas-docs/stable/reference/api/pandas.Series.dt.html)\n",
    "\n",
    "[Python date time format options](https://docs.python.org/3/library/datetime.html#strftime-and-strptime-behavior)"
   ]
  },
  {
   "cell_type": "code",
   "execution_count": null,
   "metadata": {},
   "outputs": [],
   "source": [
    "# axis 0 is rows and axis 1 is columns\n",
    "\n",
    "#use .shift to get prior or next row info\n",
    "    transform['qtr_chg'] = transform['GDP in billions of current dollars'] \\\n",
    "        - transform['GDP in billions of current dollars'].shift(1)\n",
    "\n",
    "#create a calculated column\n",
    "transform['GDP_growth'] = (transform['GDP in billions of current dollars']/transform['GDP_prior'])-1\n",
    "\n",
    "#create a new column w/ percentage change calculated\n",
    "test['new'] = test.pct_change()['GDP in billions of current dollars']\n",
    "\n",
    "\n",
    "# iterate over rows in data frame, use DataFrame.iteritems() to iterate over columns\n",
    "df = pd.DataFrame({'c1': [10, 11, 12], 'c2': [100, 110, 120]})\n",
    "\n",
    "for index, row in df.iterrows():\n",
    "    print(row['c1'], row['c2'])\n",
    "    \n",
    "# use .map() like vlookup\n",
    "transform['StName'] = transform['State'].map(states)\n",
    "\n",
    "# filter data frame\n",
    "a = ut[(ut['State']=='New York') & (ut['RegionName']=='Alfred')]\n",
    "\n",
    "#retarded ass way to filter rows\n",
    "    #create a boolean mask\n",
    "    tFilter = temp['Element'] == 'TMAX'\n",
    "    #then reference the boolean mask object as the criteria to filter the main data frame\n",
    "    temp[tFilter]\n",
    "\n",
    "# convert column to datetime\n",
    "trans['Date'] = pd.to_datetime(trans['Date'])\n",
    "\n",
    "# sort dataframe\n",
    "trans = trans.sort_values(by = 'Date')\n",
    "\n",
    "#sort by index and value - use kind='mergesort'\n",
    "mins = mins.sort_index().sort_values(by='max', kind='mergesort')\n",
    "\n",
    "# delete data by specifying the data w/ a ~ in front. this removes leap years\n",
    "trans = trans[~((trans.index.month == 2) & (trans.index.day == 29))]\n",
    "\n",
    "# exclude a list of columns from new df. you could include these by removing the negation '~'\n",
    "train_c = train[train.columns[~train.columns.isin(['disposition', 'late_fee'])]]\n",
    "\n",
    "# accessing date time parts ... see guide above for more info\n",
    "raw['Day'] = raw['Date'].dt.day\n",
    "raw['Month'] = raw['Date'].dt.month\n",
    "\n",
    "# 'stack'/assemble multiple data frames NOTE: the word 'stack' seems to have a different meaning\n",
    "df_trans = pd.concat([df_date, df_date2, df_date3, df_date4,df_date5, df_date6]) \n",
    "\n",
    "\n"
   ]
  },
  {
   "cell_type": "code",
   "execution_count": null,
   "metadata": {},
   "outputs": [],
   "source": [
    "#Add section: aggregating by date time parts from code portfolio once on github: applied ploting wk2 assign"
   ]
  },
  {
   "cell_type": "markdown",
   "metadata": {},
   "source": [
    "# Debugging\n"
   ]
  },
  {
   "cell_type": "code",
   "execution_count": null,
   "metadata": {},
   "outputs": [],
   "source": [
    "# option so .head() doesn't skip columns\n",
    "pd.set_option('display.max_columns', None)\n",
    "\n",
    "\n",
    "#what version of pandas am i using\n",
    "print(pd.__version__)\n",
    "\n",
    "#print the complete data frame to manually correct \n",
    "with pd.option_context('display.max_rows', \n",
    "                        None,\n",
    "                        'display.max_columns', \n",
    "                        None):  # more options can be specified also\n",
    "    print(energy.sort_index())"
   ]
  },
  {
   "cell_type": "code",
   "execution_count": 2,
   "metadata": {
    "collapsed": true
   },
   "outputs": [
    {
     "ename": "NameError",
     "evalue": "name 'trans' is not defined",
     "output_type": "error",
     "traceback": [
      "\u001b[0;31m---------------------------------------------------------------------------\u001b[0m",
      "\u001b[0;31mNameError\u001b[0m                                 Traceback (most recent call last)",
      "\u001b[0;32m<ipython-input-2-6e19232ec478>\u001b[0m in \u001b[0;36m<module>\u001b[0;34m\u001b[0m\n\u001b[1;32m      1\u001b[0m \u001b[0;31m#create 4 data sets 05 to 14 max/min & 15 max/min\u001b[0m\u001b[0;34m\u001b[0m\u001b[0;34m\u001b[0m\u001b[0;34m\u001b[0m\u001b[0m\n\u001b[1;32m      2\u001b[0m \u001b[0mmask_max5_14\u001b[0m \u001b[0;34m=\u001b[0m \u001b[0;34m(\u001b[0m\u001b[0mtrans\u001b[0m\u001b[0;34m[\u001b[0m\u001b[0;34m'Date'\u001b[0m\u001b[0;34m]\u001b[0m \u001b[0;34m>=\u001b[0m \u001b[0;34m'2005-01-01'\u001b[0m\u001b[0;34m)\u001b[0m \u001b[0;34m&\u001b[0m \u001b[0;34m(\u001b[0m\u001b[0mtrans\u001b[0m\u001b[0;34m[\u001b[0m\u001b[0;34m'Date'\u001b[0m\u001b[0;34m]\u001b[0m \u001b[0;34m<=\u001b[0m \u001b[0;34m'2014-12-31'\u001b[0m\u001b[0;34m)\u001b[0m \u001b[0;34m&\u001b[0m\u001b[0;31m \u001b[0m\u001b[0;31m\\\u001b[0m\u001b[0;34m\u001b[0m\u001b[0;34m\u001b[0m\u001b[0m\n\u001b[0;32m----> 3\u001b[0;31m         \u001b[0;34m(\u001b[0m\u001b[0mtrans\u001b[0m\u001b[0;34m[\u001b[0m\u001b[0;34m'Month_day'\u001b[0m\u001b[0;34m]\u001b[0m \u001b[0;34m!=\u001b[0m \u001b[0;34m'02-29'\u001b[0m\u001b[0;34m)\u001b[0m \u001b[0;34m&\u001b[0m \u001b[0;34m(\u001b[0m\u001b[0mtrans\u001b[0m\u001b[0;34m[\u001b[0m\u001b[0;34m'Element'\u001b[0m\u001b[0;34m]\u001b[0m \u001b[0;34m==\u001b[0m \u001b[0;34m'TMAX'\u001b[0m\u001b[0;34m)\u001b[0m\u001b[0;34m\u001b[0m\u001b[0;34m\u001b[0m\u001b[0m\n\u001b[0m\u001b[1;32m      4\u001b[0m \u001b[0mmask_min5_14\u001b[0m \u001b[0;34m=\u001b[0m \u001b[0;34m(\u001b[0m\u001b[0mtrans\u001b[0m\u001b[0;34m[\u001b[0m\u001b[0;34m'Date'\u001b[0m\u001b[0;34m]\u001b[0m \u001b[0;34m>=\u001b[0m \u001b[0;34m'2005-01-01'\u001b[0m\u001b[0;34m)\u001b[0m \u001b[0;34m&\u001b[0m \u001b[0;34m(\u001b[0m\u001b[0mtrans\u001b[0m\u001b[0;34m[\u001b[0m\u001b[0;34m'Date'\u001b[0m\u001b[0;34m]\u001b[0m \u001b[0;34m<=\u001b[0m \u001b[0;34m'2014-12-31'\u001b[0m\u001b[0;34m)\u001b[0m \u001b[0;34m&\u001b[0m\u001b[0;31m \u001b[0m\u001b[0;31m\\\u001b[0m\u001b[0;34m\u001b[0m\u001b[0;34m\u001b[0m\u001b[0m\n\u001b[1;32m      5\u001b[0m         \u001b[0;34m(\u001b[0m\u001b[0mtrans\u001b[0m\u001b[0;34m[\u001b[0m\u001b[0;34m'Month_day'\u001b[0m\u001b[0;34m]\u001b[0m \u001b[0;34m!=\u001b[0m \u001b[0;34m'02-29'\u001b[0m\u001b[0;34m)\u001b[0m \u001b[0;34m&\u001b[0m \u001b[0;34m(\u001b[0m\u001b[0mtrans\u001b[0m\u001b[0;34m[\u001b[0m\u001b[0;34m'Element'\u001b[0m\u001b[0;34m]\u001b[0m \u001b[0;34m==\u001b[0m \u001b[0;34m'TMIN'\u001b[0m\u001b[0;34m)\u001b[0m\u001b[0;34m\u001b[0m\u001b[0;34m\u001b[0m\u001b[0m\n",
      "\u001b[0;31mNameError\u001b[0m: name 'trans' is not defined"
     ]
    }
   ],
   "source": [
    "#create 4 data sets 05 to 14 max/min & 15 max/min\n",
    "mask_max5_14 = (trans['Date'] >= '2005-01-01') & (trans['Date'] <= '2014-12-31') & \\\n",
    "        (trans['Month_day'] != '02-29') & (trans['Element'] == 'TMAX')\n",
    "mask_min5_14 = (trans['Date'] >= '2005-01-01') & (trans['Date'] <= '2014-12-31') & \\\n",
    "        (trans['Month_day'] != '02-29') & (trans['Element'] == 'TMIN')\n",
    "trans5_14mx = trans.loc[mask_max5_14]\n",
    "trans5_14mn = trans.loc[mask_min5_14]\n",
    "#groupby sets index to grouping column\n",
    "trans5_14mx = trans5_14mx.groupby(['Month_day']).agg({'Data_Value':np.max}).rename(columns={'Data_Value': 'Max Temp'})\n",
    "trans5_14mn = trans5_14mn.groupby(['Month_day']).agg({'Data_Value':np.min}).rename(columns={'Data_Value': 'Min Temp'})\n",
    "\n",
    "mask15_mx = (trans['Date'] >='2015-01-01') & (trans['Date'] <= '2015-12-31') & \\\n",
    "        (trans['Month_day'] != '2015-02-29') & (trans['Element'] == 'TMAX')\n",
    "mask15_mn = (trans['Date']>='2015-01-01') & (trans['Date'] <= '2015-12-31') & \\\n",
    "        (trans['Month_day'] != '2015-02-29') & (trans['Element'] == 'TMIN')\n",
    "trans15_mx = trans.loc[mask15_mx]\n",
    "trans15_mn = trans.loc[mask15_mn]\n",
    "trans15_mx = trans15_mx.groupby(['Month_day']).agg({'Data_Value':np.max}).rename(columns={'Data_Value': 'Max Temp 2015'})\n",
    "trans15_mn = trans15_mn.groupby(['Month_day']).agg({'Data_Value': np.min}).rename(columns={'Data_Value': 'Min Temp 2015'})\n",
    "\n",
    "#Joins\n",
    "df = trans5_14mx.join(trans5_14mn, how = 'inner')\n",
    "df_2015 = trans15_mx.join(trans15_mn, how = 'inner')\n",
    "df = df.join(df_2015, how = 'inner')\n",
    "\n",
    "df = raw_rev.merge(raw_rec, how ='inner', left_on='Year', right_on='Year')"
   ]
  },
  {
   "cell_type": "code",
   "execution_count": null,
   "metadata": {},
   "outputs": [],
   "source": []
  },
  {
   "cell_type": "code",
   "execution_count": null,
   "metadata": {},
   "outputs": [],
   "source": []
  },
  {
   "cell_type": "code",
   "execution_count": null,
   "metadata": {},
   "outputs": [],
   "source": []
  },
  {
   "cell_type": "code",
   "execution_count": null,
   "metadata": {},
   "outputs": [],
   "source": []
  },
  {
   "cell_type": "code",
   "execution_count": null,
   "metadata": {},
   "outputs": [],
   "source": []
  },
  {
   "cell_type": "code",
   "execution_count": null,
   "metadata": {},
   "outputs": [],
   "source": [
    "my_int = 10"
   ]
  },
  {
   "cell_type": "code",
   "execution_count": null,
   "metadata": {},
   "outputs": [],
   "source": [
    "\n",
    "my_type = type(type(10))\n",
    " \n",
    "print(type(my_type))\n",
    " \n",
    "print(id(my_type))\n",
    " \n",
    "dir(my_type)"
   ]
  },
  {
   "cell_type": "code",
   "execution_count": null,
   "metadata": {},
   "outputs": [],
   "source": []
  }
 ],
 "metadata": {
  "kernelspec": {
   "display_name": "Python 3",
   "language": "python",
   "name": "python3"
  },
  "language_info": {
   "codemirror_mode": {
    "name": "ipython",
    "version": 3
   },
   "file_extension": ".py",
   "mimetype": "text/x-python",
   "name": "python",
   "nbconvert_exporter": "python",
   "pygments_lexer": "ipython3",
   "version": "3.8.5"
  }
 },
 "nbformat": 4,
 "nbformat_minor": 2
}
