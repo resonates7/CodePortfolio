{
 "cells": [
  {
   "cell_type": "markdown",
   "metadata": {},
   "source": [
    "---\n",
    "\n",
    "_You are currently looking at **version 1.1** of this notebook. To download notebooks and datafiles, as well as get help on Jupyter notebooks in the Coursera platform, visit the [Jupyter Notebook FAQ](https://www.coursera.org/learn/python-text-mining/resources/d9pwm) course resource._\n",
    "\n",
    "---"
   ]
  },
  {
   "cell_type": "markdown",
   "metadata": {},
   "source": [
    "# Assignment 3\n",
    "\n",
    "In this assignment you will explore text message data and create models to predict if a message is spam or not. "
   ]
  },
  {
   "cell_type": "code",
   "execution_count": 1,
   "metadata": {},
   "outputs": [
    {
     "data": {
      "text/html": [
       "<div>\n",
       "<style scoped>\n",
       "    .dataframe tbody tr th:only-of-type {\n",
       "        vertical-align: middle;\n",
       "    }\n",
       "\n",
       "    .dataframe tbody tr th {\n",
       "        vertical-align: top;\n",
       "    }\n",
       "\n",
       "    .dataframe thead th {\n",
       "        text-align: right;\n",
       "    }\n",
       "</style>\n",
       "<table border=\"1\" class=\"dataframe\">\n",
       "  <thead>\n",
       "    <tr style=\"text-align: right;\">\n",
       "      <th></th>\n",
       "      <th>text</th>\n",
       "      <th>target</th>\n",
       "    </tr>\n",
       "  </thead>\n",
       "  <tbody>\n",
       "    <tr>\n",
       "      <th>0</th>\n",
       "      <td>Go until jurong point, crazy.. Available only ...</td>\n",
       "      <td>0</td>\n",
       "    </tr>\n",
       "    <tr>\n",
       "      <th>1</th>\n",
       "      <td>Ok lar... Joking wif u oni...</td>\n",
       "      <td>0</td>\n",
       "    </tr>\n",
       "    <tr>\n",
       "      <th>2</th>\n",
       "      <td>Free entry in 2 a wkly comp to win FA Cup fina...</td>\n",
       "      <td>1</td>\n",
       "    </tr>\n",
       "    <tr>\n",
       "      <th>3</th>\n",
       "      <td>U dun say so early hor... U c already then say...</td>\n",
       "      <td>0</td>\n",
       "    </tr>\n",
       "    <tr>\n",
       "      <th>4</th>\n",
       "      <td>Nah I don't think he goes to usf, he lives aro...</td>\n",
       "      <td>0</td>\n",
       "    </tr>\n",
       "    <tr>\n",
       "      <th>5</th>\n",
       "      <td>FreeMsg Hey there darling it's been 3 week's n...</td>\n",
       "      <td>1</td>\n",
       "    </tr>\n",
       "    <tr>\n",
       "      <th>6</th>\n",
       "      <td>Even my brother is not like to speak with me. ...</td>\n",
       "      <td>0</td>\n",
       "    </tr>\n",
       "    <tr>\n",
       "      <th>7</th>\n",
       "      <td>As per your request 'Melle Melle (Oru Minnamin...</td>\n",
       "      <td>0</td>\n",
       "    </tr>\n",
       "    <tr>\n",
       "      <th>8</th>\n",
       "      <td>WINNER!! As a valued network customer you have...</td>\n",
       "      <td>1</td>\n",
       "    </tr>\n",
       "    <tr>\n",
       "      <th>9</th>\n",
       "      <td>Had your mobile 11 months or more? U R entitle...</td>\n",
       "      <td>1</td>\n",
       "    </tr>\n",
       "  </tbody>\n",
       "</table>\n",
       "</div>"
      ],
      "text/plain": [
       "                                                text  target\n",
       "0  Go until jurong point, crazy.. Available only ...       0\n",
       "1                      Ok lar... Joking wif u oni...       0\n",
       "2  Free entry in 2 a wkly comp to win FA Cup fina...       1\n",
       "3  U dun say so early hor... U c already then say...       0\n",
       "4  Nah I don't think he goes to usf, he lives aro...       0\n",
       "5  FreeMsg Hey there darling it's been 3 week's n...       1\n",
       "6  Even my brother is not like to speak with me. ...       0\n",
       "7  As per your request 'Melle Melle (Oru Minnamin...       0\n",
       "8  WINNER!! As a valued network customer you have...       1\n",
       "9  Had your mobile 11 months or more? U R entitle...       1"
      ]
     },
     "execution_count": 1,
     "metadata": {},
     "output_type": "execute_result"
    }
   ],
   "source": [
    "import pandas as pd\n",
    "import numpy as np\n",
    "\n",
    "spam_data = pd.read_csv('spam.csv')\n",
    "\n",
    "spam_data['target'] = np.where(spam_data['target']=='spam',1,0)\n",
    "spam_data.head(10)"
   ]
  },
  {
   "cell_type": "code",
   "execution_count": 2,
   "metadata": {},
   "outputs": [],
   "source": [
    "from sklearn.model_selection import train_test_split\n",
    "\n",
    "\n",
    "X_train, X_test, y_train, y_test = train_test_split(spam_data['text'], \n",
    "                                                    spam_data['target'], \n",
    "                                                    random_state=0)"
   ]
  },
  {
   "cell_type": "code",
   "execution_count": 3,
   "metadata": {},
   "outputs": [
    {
     "data": {
      "text/plain": [
       "4179"
      ]
     },
     "execution_count": 3,
     "metadata": {},
     "output_type": "execute_result"
    }
   ],
   "source": [
    "len(X_train)"
   ]
  },
  {
   "cell_type": "markdown",
   "metadata": {},
   "source": [
    "### Question 1\n",
    "What percentage of the documents in `spam_data` are spam?\n",
    "\n",
    "*This function should return a float, the percent value (i.e. $ratio * 100$).*"
   ]
  },
  {
   "cell_type": "code",
   "execution_count": 4,
   "metadata": {},
   "outputs": [],
   "source": [
    "def answer_one():\n",
    "    \n",
    "    \n",
    "    return sum(spam_data['target']/len(spam_data))*100 #Your answer here"
   ]
  },
  {
   "cell_type": "code",
   "execution_count": 5,
   "metadata": {},
   "outputs": [
    {
     "data": {
      "text/plain": [
       "13.406317300789542"
      ]
     },
     "execution_count": 5,
     "metadata": {},
     "output_type": "execute_result"
    }
   ],
   "source": [
    "answer_one()"
   ]
  },
  {
   "cell_type": "markdown",
   "metadata": {},
   "source": [
    "### Question 2\n",
    "\n",
    "Fit the training data `X_train` using a Count Vectorizer with default parameters.\n",
    "\n",
    "What is the longest token in the vocabulary?\n",
    "\n",
    "*This function should return a string.*"
   ]
  },
  {
   "cell_type": "code",
   "execution_count": 6,
   "metadata": {},
   "outputs": [],
   "source": [
    "from sklearn.feature_extraction.text import CountVectorizer\n",
    "\n",
    "def answer_two():\n",
    "    vect = CountVectorizer().fit(X_train)\n",
    "    a = vect.get_feature_names()\n",
    "    sorted_a = sorted(a, key=len, reverse=True)\n",
    "    sorted_a[0]\n",
    "    \n",
    "    return sorted_a[0] #Your answer here"
   ]
  },
  {
   "cell_type": "code",
   "execution_count": 7,
   "metadata": {},
   "outputs": [
    {
     "data": {
      "text/plain": [
       "'com1win150ppmx3age16subscription'"
      ]
     },
     "execution_count": 7,
     "metadata": {},
     "output_type": "execute_result"
    }
   ],
   "source": [
    "answer_two()"
   ]
  },
  {
   "cell_type": "markdown",
   "metadata": {},
   "source": [
    "### Question 3\n",
    "\n",
    "Fit and transform the training data `X_train` using a Count Vectorizer with default parameters.\n",
    "\n",
    "Next, fit a fit a multinomial Naive Bayes classifier model with smoothing `alpha=0.1`. Find the area under the curve (AUC) score using the transformed test data.\n",
    "\n",
    "*This function should return the AUC score as a float.*"
   ]
  },
  {
   "cell_type": "code",
   "execution_count": 8,
   "metadata": {},
   "outputs": [],
   "source": [
    "from sklearn.naive_bayes import MultinomialNB\n",
    "from sklearn.metrics import roc_auc_score\n",
    "\n",
    "def answer_three():\n",
    "    vect = CountVectorizer().fit(X_train)\n",
    "    X_train_vect = vect.transform(X_train)\n",
    "    classifier = MultinomialNB(alpha=0.1)\n",
    "    classifier.fit(X_train_vect, y_train)\n",
    "    predict = classifier.predict(vect.transform(X_test))\n",
    "    auc = roc_auc_score(y_test, predict)\n",
    "    \n",
    "    \n",
    "    return auc #Your answer here"
   ]
  },
  {
   "cell_type": "code",
   "execution_count": 9,
   "metadata": {},
   "outputs": [
    {
     "data": {
      "text/plain": [
       "0.9720812182741116"
      ]
     },
     "execution_count": 9,
     "metadata": {},
     "output_type": "execute_result"
    }
   ],
   "source": [
    "answer_three()"
   ]
  },
  {
   "cell_type": "markdown",
   "metadata": {},
   "source": [
    "### Question 4\n",
    "\n",
    "Fit and transform the training data `X_train` using a Tfidf Vectorizer with default parameters.\n",
    "\n",
    "What 20 features have the smallest tf-idf and what 20 have the largest tf-idf?\n",
    "\n",
    "Put these features in a two series where each series is sorted by tf-idf value and then alphabetically by feature name. The index of the series should be the feature name, and the data should be the tf-idf.\n",
    "\n",
    "The series of 20 features with smallest tf-idfs should be sorted smallest tfidf first, the list of 20 features with largest tf-idfs should be sorted largest first. \n",
    "\n",
    "*This function should return a tuple of two series\n",
    "`(smallest tf-idfs series, largest tf-idfs series)`.*"
   ]
  },
  {
   "cell_type": "code",
   "execution_count": 33,
   "metadata": {},
   "outputs": [
    {
     "data": {
      "text/plain": [
       "(aaniye          0.074475\n",
       " athletic        0.074475\n",
       " chef            0.074475\n",
       " companion       0.074475\n",
       " courageous      0.074475\n",
       " dependable      0.074475\n",
       " determined      0.074475\n",
       " exterminator    0.074475\n",
       " healer          0.074475\n",
       " listener        0.074475\n",
       " organizer       0.074475\n",
       " pest            0.074475\n",
       " psychiatrist    0.074475\n",
       " psychologist    0.074475\n",
       " pudunga         0.074475\n",
       " stylist         0.074475\n",
       " sympathetic     0.074475\n",
       " venaam          0.074475\n",
       " diwali          0.091250\n",
       " mornings        0.091250\n",
       " dtype: float64,\n",
       " 146tf150p    1.000000\n",
       " 645          1.000000\n",
       " anything     1.000000\n",
       " anytime      1.000000\n",
       " beerage      1.000000\n",
       " done         1.000000\n",
       " er           1.000000\n",
       " havent       1.000000\n",
       " home         1.000000\n",
       " lei          1.000000\n",
       " nite         1.000000\n",
       " ok           1.000000\n",
       " okie         1.000000\n",
       " thank        1.000000\n",
       " thanx        1.000000\n",
       " too          1.000000\n",
       " where        1.000000\n",
       " yup          1.000000\n",
       " tick         0.980166\n",
       " blank        0.932702\n",
       " dtype: float64)"
      ]
     },
     "execution_count": 33,
     "metadata": {},
     "output_type": "execute_result"
    }
   ],
   "source": [
    "from sklearn.feature_extraction.text import TfidfVectorizer\n",
    "\n",
    "def answer_four():\n",
    "    vect = TfidfVectorizer().fit(X_train)\n",
    "    X_train_vec = vect.transform(X_train)\n",
    "    tfidf_names = np.array(vect.get_feature_names())\n",
    "    sort_tfidf = X_train_vec.max(0).toarray()[0].argsort()\n",
    "    t_df = pd.DataFrame(X_train_vec.toarray(),  columns = vect.get_feature_names())\n",
    "    b =t_df.T\n",
    "    b['max'] = b.max(axis=1)\n",
    "    b = b.sort_values(by='max')\n",
    "    mins = b.iloc[0:20]\n",
    "    mins = mins.sort_index().sort_values(by='max', kind='mergesort')\n",
    "    mins = mins['max']\n",
    "\n",
    "    maxs = b.iloc[-20:]\n",
    "    maxs = maxs.sort_index().sort_values(by='max', kind='mergesort', ascending=False)\n",
    "    maxs = maxs['max']\n",
    "    mins.name=None\n",
    "    mins.index.name=None\n",
    "    maxs.name=None\n",
    "    maxs.index.name=None\n",
    "    \n",
    "    return mins, maxs #Your answer here\n",
    "\n",
    "answer_four()"
   ]
  },
  {
   "cell_type": "markdown",
   "metadata": {},
   "source": [
    "### q4 notes\n",
    "need to transpose this df then find the max idf accross documents. there are ~4k documents and ~7k idf features\n",
    "\n",
    "https://www.coursera.org/learn/python-text-mining/discussions/weeks/3/threads/4y22x-3KEeeaYw6MXNSBHA\n",
    "https://stackoverflow.com/questions/34449127/sklearn-tfidf-transformer-how-to-get-tf-idf-values-of-given-words-in-documen\n",
    "'''\n",
    "\n",
    "\n"
   ]
  },
  {
   "cell_type": "markdown",
   "metadata": {},
   "source": [
    "### Question 5\n",
    "\n",
    "Fit and transform the training data `X_train` using a Tfidf Vectorizer ignoring terms that have a document frequency strictly lower than **3**.\n",
    "\n",
    "Then fit a multinomial Naive Bayes classifier model with smoothing `alpha=0.1` and compute the area under the curve (AUC) score using the transformed test data.\n",
    "\n",
    "*This function should return the AUC score as a float.*"
   ]
  },
  {
   "cell_type": "code",
   "execution_count": 34,
   "metadata": {},
   "outputs": [],
   "source": [
    "def answer_five():\n",
    "    from sklearn.feature_extraction.text import TfidfVectorizer\n",
    "    from sklearn import naive_bayes\n",
    "    from sklearn.metrics import roc_auc_score\n",
    "    min_df=3\n",
    "    \n",
    "    vect=TfidfVectorizer(min_df=min_df).fit(X_train)\n",
    "    X_train_vect=vect.transform(X_train)\n",
    "    \n",
    "    vect_test=TfidfVectorizer(min_df=min_df).fit(X_train)\n",
    "    X_test_vect=vect_test.transform(X_test)\n",
    "    \n",
    "    #build model\n",
    "    clfrNB=naive_bayes.MultinomialNB(alpha=0.1)\n",
    "    clfrNB.fit(X_train_vect, y_train)\n",
    "    predictions=clfrNB.predict(X_test_vect)\n",
    "    \n",
    "    \n",
    "    \n",
    "    return roc_auc_score(y_test, predictions) #Your answer here"
   ]
  },
  {
   "cell_type": "code",
   "execution_count": 36,
   "metadata": {},
   "outputs": [
    {
     "data": {
      "text/plain": [
       "0.9416243654822335"
      ]
     },
     "execution_count": 36,
     "metadata": {},
     "output_type": "execute_result"
    }
   ],
   "source": [
    "answer_five()"
   ]
  },
  {
   "cell_type": "markdown",
   "metadata": {},
   "source": [
    "### q5 notes\n",
    "\n",
    "https://www.coursera.org/learn/python-text-mining/discussions/weeks/3/threads/cLJUR33kEeeUgw7JoFNoqA"
   ]
  },
  {
   "cell_type": "markdown",
   "metadata": {},
   "source": [
    "### Question 6\n",
    "\n",
    "What is the average length of documents (number of characters) for not spam and spam documents?\n",
    "\n",
    "*This function should return a tuple (average length not spam, average length spam).*"
   ]
  },
  {
   "cell_type": "code",
   "execution_count": 37,
   "metadata": {},
   "outputs": [],
   "source": [
    "def answer_six():\n",
    "    #find len of text\n",
    "    spam_data['len']=spam_data['text'].apply(len)\n",
    "    \n",
    "    #mean len of all messages\n",
    "    all_len=spam_data['len'].mean()\n",
    "    \n",
    "    #mean len of not spam\n",
    "    not_spam=spam_data[spam_data['target']==0]\n",
    "    n_spam_len=not_spam['len'].mean()\n",
    "\n",
    "    #mean len of spam\n",
    "    is_spam=spam_data[spam_data['target']==1]\n",
    "    is_spam_len=is_spam['len'].mean()\n",
    "\n",
    "    \n",
    "    return n_spam_len, is_spam_len#Your answer here"
   ]
  },
  {
   "cell_type": "code",
   "execution_count": 38,
   "metadata": {},
   "outputs": [
    {
     "data": {
      "text/plain": [
       "(71.02362694300518, 138.8661311914324)"
      ]
     },
     "execution_count": 38,
     "metadata": {},
     "output_type": "execute_result"
    }
   ],
   "source": [
    "answer_six()"
   ]
  },
  {
   "cell_type": "markdown",
   "metadata": {},
   "source": [
    "<br>\n",
    "<br>\n",
    "The following function has been provided to help you combine new features into the training data:"
   ]
  },
  {
   "cell_type": "code",
   "execution_count": 39,
   "metadata": {},
   "outputs": [],
   "source": [
    "def add_feature(X, feature_to_add):\n",
    "    \"\"\"\n",
    "    Returns sparse feature matrix with added feature.\n",
    "    feature_to_add can also be a list of features.\n",
    "    \"\"\"\n",
    "    from scipy.sparse import csr_matrix, hstack\n",
    "    return hstack([X, csr_matrix(feature_to_add).T], 'csr')"
   ]
  },
  {
   "cell_type": "code",
   "execution_count": 40,
   "metadata": {},
   "outputs": [],
   "source": [
    "# #WORKING\n",
    "# n=500\n",
    "# X_train = X_train[:n]\n",
    "# X_test=X_test[:n]\n",
    "# y_train=y_train[:n]\n",
    "# y_test=y_test[:n] \n",
    "\n",
    "# from sklearn.feature_extraction.text import TfidfVectorizer\n",
    "# from sklearn import svm\n",
    "# from sklearn.metrics import roc_auc_score\n",
    "    \n",
    "\n",
    "# min_df=5\n",
    "\n",
    "# vect = TfidfVectorizer(min_df=5).fit(X_train)\n",
    "\n",
    "# X_train_transformed = vect.transform(X_train)\n",
    "# X_test_transformed= vect.transform(X_test)\n",
    "\n",
    "# #add feature to vectorized data\n",
    "#     #add feature x train\n",
    "# X_train_length = X_train.str.len()\n",
    "# X_train_transformed_added=add_feature(X_train_transformed, X_train_length)\n",
    "#     #vect test\n",
    "# X_test_length = X_test.str.len()\n",
    "# X_test_transformed_added=add_feature(X_test_transformed, X_test_length)\n",
    "\n",
    "# #fit a Support Vector Classification model with regularization C=10,000\n",
    "# clfrSVM = svm.SVC(kernel='linear', C=10000)\n",
    "# clfrSVM.fit(X_train_transformed_added, y_train)\n",
    "# predictions=clfrSVM.predict(X_test_transformed_added)\n",
    "# score=roc_auc_score(y_test, predictions)\n",
    "\n"
   ]
  },
  {
   "cell_type": "code",
   "execution_count": 17,
   "metadata": {},
   "outputs": [],
   "source": [
    "# print('X_train_transformed', X_train_transformed.shape)\n",
    "# print('X_train_transformed_added', X_train_transformed_added.shape)\n",
    "# print('X_train_length', X_train_length.shape)\n",
    "# print('X_test_length', X_test_length.shape)\n",
    "# print('X_test_transformed_added', X_test_transformed_added.shape)\n",
    "# score\n",
    "# type(score)"
   ]
  },
  {
   "cell_type": "markdown",
   "metadata": {},
   "source": [
    "### Question 7\n",
    "\n",
    "Fit and transform the training data X_train using a Tfidf Vectorizer ignoring terms that have a document frequency strictly lower than **5**.\n",
    "\n",
    "Using this document-term matrix and an additional feature, **the length of document (number of characters)**, fit a Support Vector Classification model with regularization `C=10000`. Then compute the area under the curve (AUC) score using the transformed test data.\n",
    "\n",
    "*This function should return the AUC score as a float.*"
   ]
  },
  {
   "cell_type": "code",
   "execution_count": 41,
   "metadata": {},
   "outputs": [],
   "source": [
    "def answer_seven():\n",
    "    from sklearn.feature_extraction.text import TfidfVectorizer\n",
    "    from sklearn import svm\n",
    "    from sklearn.metrics import roc_auc_score\n",
    "\n",
    "\n",
    "    min_df=5\n",
    "\n",
    "    vect = TfidfVectorizer(min_df=5).fit(X_train)\n",
    "\n",
    "    X_train_transformed = vect.transform(X_train)\n",
    "    X_test_transformed= vect.transform(X_test)\n",
    "\n",
    "    #add feature to vectorized data\n",
    "        #add feature x train\n",
    "    X_train_length = X_train.str.len()\n",
    "    X_train_transformed_added=add_feature(X_train_transformed, X_train_length)\n",
    "        #vect test\n",
    "    X_test_length = X_test.str.len()\n",
    "    X_test_transformed_added=add_feature(X_test_transformed, X_test_length)\n",
    "\n",
    "    #fit a Support Vector Classification model with regularization C=10,000\n",
    "    clfrSVM = svm.SVC(C=10000)\n",
    "    clfrSVM.fit(X_train_transformed_added, y_train)\n",
    "    predictions=clfrSVM.predict(X_test_transformed_added)\n",
    "    score=roc_auc_score(y_test, predictions)\n",
    "\n",
    "    \n",
    "    return score"
   ]
  },
  {
   "cell_type": "code",
   "execution_count": 42,
   "metadata": {},
   "outputs": [
    {
     "data": {
      "text/plain": [
       "0.9661689557407943"
      ]
     },
     "execution_count": 42,
     "metadata": {},
     "output_type": "execute_result"
    }
   ],
   "source": [
    "answer_seven()\n"
   ]
  },
  {
   "cell_type": "code",
   "execution_count": 20,
   "metadata": {},
   "outputs": [],
   "source": [
    "# y_train.shape"
   ]
  },
  {
   "cell_type": "code",
   "execution_count": 21,
   "metadata": {},
   "outputs": [],
   "source": [
    "# X_len = X_train.apply(len)\n",
    "# num_chars = X_train.str.len()\n",
    "# #X_Tlen=add_feature(X_train, X_len)\n",
    "# X_train.shape, X_len.shape"
   ]
  },
  {
   "cell_type": "code",
   "execution_count": 22,
   "metadata": {},
   "outputs": [],
   "source": [
    "# print(X_len.describe())\n",
    "# print(num_chars.describe())"
   ]
  },
  {
   "cell_type": "markdown",
   "metadata": {},
   "source": [
    "### RE Notes\n",
    "\n",
    "https://www.coursera.org/learn/python-text-mining/discussions/weeks/3/threads/LERUF8t_EeeTYAoJO24o4g\n",
    "\n",
    "https://www.coursera.org/learn/python-text-mining/discussions/forums/RBU1oGgSEeePcg7f_RfZAA/threads/ZXn6vrSsSRy5-r60rFkcDg\n",
    "\n",
    "\n",
    "https://www.coursera.org/learn/python-text-mining/discussions/forums/RBU1oGgSEeePcg7f_RfZAA/threads/33lKzvvlEeenrw7feJxQmg\n",
    "\n",
    "https://www.coursera.org/learn/python-text-mining/discussions/weeks/3/threads/alpIN9MMEeihvg7K_fsdxA"
   ]
  },
  {
   "cell_type": "markdown",
   "metadata": {},
   "source": [
    "### Question 8\n",
    "\n",
    "What is the average number of digits per document for not spam and spam documents?\n",
    "\n",
    "*This function should return a tuple (average # digits not spam, average # digits spam).*"
   ]
  },
  {
   "cell_type": "code",
   "execution_count": 43,
   "metadata": {},
   "outputs": [],
   "source": [
    "def answer_eight():\n",
    "    #https://www.coursera.org/learn/python-text-mining/discussions/weeks/3/threads/pFIa5tElEemOLBJyhsIcKA\n",
    "    spam_data['Digit Count']=spam_data['text'].str.count(r'\\d')\n",
    "    is_spam=spam_data[spam_data['target']==1]\n",
    "    not_spam=spam_data[spam_data['target']!=1]\n",
    "    \n",
    "    a=is_spam['Digit Count'].mean()\n",
    "    b=not_spam['Digit Count'].mean()\n",
    "    \n",
    "    return b, a#Your answer here"
   ]
  },
  {
   "cell_type": "code",
   "execution_count": 44,
   "metadata": {},
   "outputs": [
    {
     "data": {
      "text/plain": [
       "(0.2992746113989637, 15.759036144578314)"
      ]
     },
     "execution_count": 44,
     "metadata": {},
     "output_type": "execute_result"
    }
   ],
   "source": [
    "answer_eight()\n"
   ]
  },
  {
   "cell_type": "code",
   "execution_count": 45,
   "metadata": {},
   "outputs": [
    {
     "data": {
      "text/html": [
       "<div>\n",
       "<style scoped>\n",
       "    .dataframe tbody tr th:only-of-type {\n",
       "        vertical-align: middle;\n",
       "    }\n",
       "\n",
       "    .dataframe tbody tr th {\n",
       "        vertical-align: top;\n",
       "    }\n",
       "\n",
       "    .dataframe thead th {\n",
       "        text-align: right;\n",
       "    }\n",
       "</style>\n",
       "<table border=\"1\" class=\"dataframe\">\n",
       "  <thead>\n",
       "    <tr style=\"text-align: right;\">\n",
       "      <th></th>\n",
       "      <th>text</th>\n",
       "      <th>target</th>\n",
       "      <th>len</th>\n",
       "      <th>Digit Count</th>\n",
       "    </tr>\n",
       "  </thead>\n",
       "  <tbody>\n",
       "    <tr>\n",
       "      <th>0</th>\n",
       "      <td>Go until jurong point, crazy.. Available only ...</td>\n",
       "      <td>0</td>\n",
       "      <td>111</td>\n",
       "      <td>0</td>\n",
       "    </tr>\n",
       "    <tr>\n",
       "      <th>1</th>\n",
       "      <td>Ok lar... Joking wif u oni...</td>\n",
       "      <td>0</td>\n",
       "      <td>29</td>\n",
       "      <td>0</td>\n",
       "    </tr>\n",
       "    <tr>\n",
       "      <th>2</th>\n",
       "      <td>Free entry in 2 a wkly comp to win FA Cup fina...</td>\n",
       "      <td>1</td>\n",
       "      <td>155</td>\n",
       "      <td>25</td>\n",
       "    </tr>\n",
       "    <tr>\n",
       "      <th>3</th>\n",
       "      <td>U dun say so early hor... U c already then say...</td>\n",
       "      <td>0</td>\n",
       "      <td>49</td>\n",
       "      <td>0</td>\n",
       "    </tr>\n",
       "    <tr>\n",
       "      <th>4</th>\n",
       "      <td>Nah I don't think he goes to usf, he lives aro...</td>\n",
       "      <td>0</td>\n",
       "      <td>61</td>\n",
       "      <td>0</td>\n",
       "    </tr>\n",
       "    <tr>\n",
       "      <th>5</th>\n",
       "      <td>FreeMsg Hey there darling it's been 3 week's n...</td>\n",
       "      <td>1</td>\n",
       "      <td>148</td>\n",
       "      <td>4</td>\n",
       "    </tr>\n",
       "    <tr>\n",
       "      <th>6</th>\n",
       "      <td>Even my brother is not like to speak with me. ...</td>\n",
       "      <td>0</td>\n",
       "      <td>77</td>\n",
       "      <td>0</td>\n",
       "    </tr>\n",
       "    <tr>\n",
       "      <th>7</th>\n",
       "      <td>As per your request 'Melle Melle (Oru Minnamin...</td>\n",
       "      <td>0</td>\n",
       "      <td>160</td>\n",
       "      <td>1</td>\n",
       "    </tr>\n",
       "    <tr>\n",
       "      <th>8</th>\n",
       "      <td>WINNER!! As a valued network customer you have...</td>\n",
       "      <td>1</td>\n",
       "      <td>158</td>\n",
       "      <td>19</td>\n",
       "    </tr>\n",
       "    <tr>\n",
       "      <th>9</th>\n",
       "      <td>Had your mobile 11 months or more? U R entitle...</td>\n",
       "      <td>1</td>\n",
       "      <td>154</td>\n",
       "      <td>13</td>\n",
       "    </tr>\n",
       "    <tr>\n",
       "      <th>10</th>\n",
       "      <td>I'm gonna be home soon and i don't want to tal...</td>\n",
       "      <td>0</td>\n",
       "      <td>109</td>\n",
       "      <td>0</td>\n",
       "    </tr>\n",
       "    <tr>\n",
       "      <th>11</th>\n",
       "      <td>SIX chances to win CASH! From 100 to 20,000 po...</td>\n",
       "      <td>1</td>\n",
       "      <td>136</td>\n",
       "      <td>22</td>\n",
       "    </tr>\n",
       "    <tr>\n",
       "      <th>12</th>\n",
       "      <td>URGENT! You have won a 1 week FREE membership ...</td>\n",
       "      <td>1</td>\n",
       "      <td>156</td>\n",
       "      <td>20</td>\n",
       "    </tr>\n",
       "    <tr>\n",
       "      <th>13</th>\n",
       "      <td>I've been searching for the right words to tha...</td>\n",
       "      <td>0</td>\n",
       "      <td>196</td>\n",
       "      <td>0</td>\n",
       "    </tr>\n",
       "    <tr>\n",
       "      <th>14</th>\n",
       "      <td>I HAVE A DATE ON SUNDAY WITH WILL!!</td>\n",
       "      <td>0</td>\n",
       "      <td>35</td>\n",
       "      <td>0</td>\n",
       "    </tr>\n",
       "    <tr>\n",
       "      <th>15</th>\n",
       "      <td>XXXMobileMovieClub: To use your credit, click ...</td>\n",
       "      <td>1</td>\n",
       "      <td>149</td>\n",
       "      <td>0</td>\n",
       "    </tr>\n",
       "    <tr>\n",
       "      <th>16</th>\n",
       "      <td>Oh k...i'm watching here:)</td>\n",
       "      <td>0</td>\n",
       "      <td>26</td>\n",
       "      <td>0</td>\n",
       "    </tr>\n",
       "    <tr>\n",
       "      <th>17</th>\n",
       "      <td>Eh u remember how 2 spell his name... Yes i di...</td>\n",
       "      <td>0</td>\n",
       "      <td>81</td>\n",
       "      <td>1</td>\n",
       "    </tr>\n",
       "    <tr>\n",
       "      <th>18</th>\n",
       "      <td>Fine if thatåÕs the way u feel. ThatåÕs the wa...</td>\n",
       "      <td>0</td>\n",
       "      <td>58</td>\n",
       "      <td>0</td>\n",
       "    </tr>\n",
       "    <tr>\n",
       "      <th>19</th>\n",
       "      <td>England v Macedonia - dont miss the goals/team...</td>\n",
       "      <td>1</td>\n",
       "      <td>156</td>\n",
       "      <td>23</td>\n",
       "    </tr>\n",
       "  </tbody>\n",
       "</table>\n",
       "</div>"
      ],
      "text/plain": [
       "                                                 text  target  len  \\\n",
       "0   Go until jurong point, crazy.. Available only ...       0  111   \n",
       "1                       Ok lar... Joking wif u oni...       0   29   \n",
       "2   Free entry in 2 a wkly comp to win FA Cup fina...       1  155   \n",
       "3   U dun say so early hor... U c already then say...       0   49   \n",
       "4   Nah I don't think he goes to usf, he lives aro...       0   61   \n",
       "5   FreeMsg Hey there darling it's been 3 week's n...       1  148   \n",
       "6   Even my brother is not like to speak with me. ...       0   77   \n",
       "7   As per your request 'Melle Melle (Oru Minnamin...       0  160   \n",
       "8   WINNER!! As a valued network customer you have...       1  158   \n",
       "9   Had your mobile 11 months or more? U R entitle...       1  154   \n",
       "10  I'm gonna be home soon and i don't want to tal...       0  109   \n",
       "11  SIX chances to win CASH! From 100 to 20,000 po...       1  136   \n",
       "12  URGENT! You have won a 1 week FREE membership ...       1  156   \n",
       "13  I've been searching for the right words to tha...       0  196   \n",
       "14                I HAVE A DATE ON SUNDAY WITH WILL!!       0   35   \n",
       "15  XXXMobileMovieClub: To use your credit, click ...       1  149   \n",
       "16                         Oh k...i'm watching here:)       0   26   \n",
       "17  Eh u remember how 2 spell his name... Yes i di...       0   81   \n",
       "18  Fine if thatåÕs the way u feel. ThatåÕs the wa...       0   58   \n",
       "19  England v Macedonia - dont miss the goals/team...       1  156   \n",
       "\n",
       "    Digit Count  \n",
       "0             0  \n",
       "1             0  \n",
       "2            25  \n",
       "3             0  \n",
       "4             0  \n",
       "5             4  \n",
       "6             0  \n",
       "7             1  \n",
       "8            19  \n",
       "9            13  \n",
       "10            0  \n",
       "11           22  \n",
       "12           20  \n",
       "13            0  \n",
       "14            0  \n",
       "15            0  \n",
       "16            0  \n",
       "17            1  \n",
       "18            0  \n",
       "19           23  "
      ]
     },
     "execution_count": 45,
     "metadata": {},
     "output_type": "execute_result"
    }
   ],
   "source": [
    "spam_data['Digit Count']=spam_data['text'].str.count(r'\\d')\n",
    "spam_data.head(20)\n",
    "#spam_data['text'].iloc[9]"
   ]
  },
  {
   "cell_type": "markdown",
   "metadata": {},
   "source": [
    "### Question 9\n",
    "\n",
    "Fit and transform the training data `X_train` using a Tfidf Vectorizer ignoring terms that have a document frequency strictly lower than **5** and using **word n-grams from n=1 to n=3** (unigrams, bigrams, and trigrams).\n",
    "\n",
    "Using this document-term matrix and the following additional features:\n",
    "* the length of document (number of characters)\n",
    "* **number of digits per document**\n",
    "\n",
    "fit a Logistic Regression model with regularization `C=100`. Then compute the area under the curve (AUC) score using the transformed test data.\n",
    "\n",
    "*This function should return the AUC score as a float.*"
   ]
  },
  {
   "cell_type": "code",
   "execution_count": 46,
   "metadata": {},
   "outputs": [],
   "source": [
    "from sklearn.linear_model import LogisticRegression\n",
    "\n",
    "def answer_nine():\n",
    "    from sklearn.feature_extraction.text import TfidfVectorizer\n",
    "    from sklearn import svm\n",
    "    from sklearn.metrics import roc_auc_score\n",
    "\n",
    "\n",
    "    min_df=5\n",
    "\n",
    "    vect = TfidfVectorizer(min_df=min_df, ngram_range=(1,3)).fit(X_train)\n",
    "\n",
    "    X_train_transformed = vect.transform(X_train)\n",
    "    X_test_transformed= vect.transform(X_test)    \n",
    "    \n",
    "    #add [length of document and number of digits] features to vectorized data\n",
    "        #add features x train\n",
    "    X_train_length = X_train.str.len()\n",
    "    X_train_cdigits=X_train.str.count(r'\\d')\n",
    "    X_train_transformed_added=add_feature(X_train_transformed, [X_train_length,X_train_cdigits])\n",
    "        #add features vect test\n",
    "    X_test_length = X_test.str.len()\n",
    "    X_test_cdigits=X_test.str.count(r'\\d')\n",
    "    X_test_transformed_added=add_feature(X_test_transformed, [X_test_length, X_test_cdigits])\n",
    "    \n",
    "    #fit a logistic regression model with regularization C=100\n",
    "    l_model = LogisticRegression(C=100)\n",
    "    l_model.fit(X_train_transformed_added, y_train)\n",
    "    predictions=l_model.predict(X_test_transformed_added)\n",
    "    score=roc_auc_score(y_test, predictions)\n",
    "    \n",
    "    return  score #Your answer here"
   ]
  },
  {
   "cell_type": "code",
   "execution_count": 47,
   "metadata": {},
   "outputs": [
    {
     "name": "stderr",
     "output_type": "stream",
     "text": [
      "C:\\Users\\reson\\anaconda3\\envs\\working_env\\lib\\site-packages\\sklearn\\linear_model\\_logistic.py:762: ConvergenceWarning: lbfgs failed to converge (status=1):\n",
      "STOP: TOTAL NO. of ITERATIONS REACHED LIMIT.\n",
      "\n",
      "Increase the number of iterations (max_iter) or scale the data as shown in:\n",
      "    https://scikit-learn.org/stable/modules/preprocessing.html\n",
      "Please also refer to the documentation for alternative solver options:\n",
      "    https://scikit-learn.org/stable/modules/linear_model.html#logistic-regression\n",
      "  n_iter_i = _check_optimize_result(\n"
     ]
    },
    {
     "data": {
      "text/plain": [
       "0.9809793219360643"
      ]
     },
     "execution_count": 47,
     "metadata": {},
     "output_type": "execute_result"
    }
   ],
   "source": [
    "a=answer_nine()\n",
    "a"
   ]
  },
  {
   "cell_type": "code",
   "execution_count": 28,
   "metadata": {},
   "outputs": [],
   "source": [
    "# a = [1,2]\n",
    "# type(a)"
   ]
  },
  {
   "cell_type": "markdown",
   "metadata": {},
   "source": [
    "### Question 10\n",
    "\n",
    "What is the average number of non-word characters (anything other than a letter, digit or underscore) per document for not spam and spam documents?\n",
    "\n",
    "*Hint: Use `\\w` and `\\W` character classes*\n",
    "\n",
    "*This function should return a tuple (average # non-word characters not spam, average # non-word characters spam).*"
   ]
  },
  {
   "cell_type": "code",
   "execution_count": 48,
   "metadata": {},
   "outputs": [],
   "source": [
    "def answer_ten():\n",
    "    import re\n",
    "    \n",
    "    spam_data['Non-word Count']=spam_data['text'].str.count(r'\\W')\n",
    "    is_spam=spam_data[spam_data['target']==1]\n",
    "    not_spam=spam_data[spam_data['target']!=1]\n",
    "    \n",
    "    a=is_spam['Non-word Count'].mean()\n",
    "    b=not_spam['Non-word Count'].mean()\n",
    "    \n",
    "    return b,a #Your answer here"
   ]
  },
  {
   "cell_type": "code",
   "execution_count": 49,
   "metadata": {},
   "outputs": [
    {
     "data": {
      "text/plain": [
       "(17.29181347150259, 29.041499330655956)"
      ]
     },
     "execution_count": 49,
     "metadata": {},
     "output_type": "execute_result"
    }
   ],
   "source": [
    "a=answer_ten()\n",
    "a"
   ]
  },
  {
   "cell_type": "markdown",
   "metadata": {},
   "source": [
    "### Question 11\n",
    "\n",
    "Fit and transform the training data X_train using a Count Vectorizer ignoring terms that have a document frequency strictly lower than **5** and using **character n-grams from n=2 to n=5.**\n",
    "\n",
    "To tell Count Vectorizer to use character n-grams pass in `analyzer='char_wb'` which creates character n-grams only from text inside word boundaries. This should make the model more robust to spelling mistakes.\n",
    "\n",
    "Using this document-term matrix and the following additional features:\n",
    "* the length of document (number of characters)\n",
    "* number of digits per document\n",
    "* **number of non-word characters (anything other than a letter, digit or underscore.)**\n",
    "\n",
    "fit a Logistic Regression model with regularization C=100. Then compute the area under the curve (AUC) score using the transformed test data.\n",
    "\n",
    "Also **find the 10 smallest and 10 largest coefficients from the model** and return them along with the AUC score in a tuple.\n",
    "\n",
    "The list of 10 smallest coefficients should be sorted smallest first, the list of 10 largest coefficients should be sorted largest first.\n",
    "\n",
    "The three features that were added to the document term matrix should have the following names should they appear in the list of coefficients:\n",
    "['length_of_doc', 'digit_count', 'non_word_char_count']\n",
    "\n",
    "*This function should return a tuple `(AUC score as a float, smallest coefs list, largest coefs list)`.*"
   ]
  },
  {
   "cell_type": "code",
   "execution_count": 50,
   "metadata": {},
   "outputs": [],
   "source": [
    "def answer_eleven():\n",
    "    from sklearn.feature_extraction.text import TfidfVectorizer\n",
    "    from sklearn import svm\n",
    "    from sklearn.metrics import roc_auc_score\n",
    "    import re\n",
    "\n",
    "\n",
    "    min_df=5\n",
    "\n",
    "    vect = CountVectorizer(min_df=min_df, ngram_range=(2,5), analyzer='char_wb').fit(X_train)\n",
    "\n",
    "    X_train_transformed = vect.transform(X_train)\n",
    "    X_test_transformed= vect.transform(X_test)    \n",
    "    \n",
    "    #add [len record, num digits, count non-word charecters] features to vectorized data\n",
    "        #add features x train\n",
    "    length_of_doc = X_train.str.len()\n",
    "    digit_count = X_train.str.count(r'\\d')\n",
    "    non_word_char_count = X_train.str.count(r'\\W')\n",
    "    X_train_transformed_added=add_feature(X_train_transformed, [length_of_doc, digit_count, non_word_char_count])\n",
    "        #add features vect test\n",
    "    length_of_doc = X_test.str.len()\n",
    "    digit_count = X_test.str.count(r'\\d')\n",
    "    non_word_char_count = X_test.str.count(r'\\W')\n",
    "    X_test_transformed_added=add_feature(X_test_transformed, [length_of_doc, digit_count, non_word_char_count])\n",
    "    \n",
    "    #fit a logistic regression model with regularization C=100\n",
    "    l_model = LogisticRegression(C=100)\n",
    "    l_model.fit(X_train_transformed_added, y_train)\n",
    "    predictions=l_model.predict(X_test_transformed_added)\n",
    "    score=roc_auc_score(y_test, predictions)\n",
    "    \n",
    "    \n",
    "    #get smallest and largest coefficients\n",
    "    feature_names= np.array(vect.get_feature_names()).tolist()\n",
    "    \n",
    "    new_fs=['length_of_doc', 'digit_count', 'non_word_char_count']\n",
    "    for x in new_fs:feature_names.append(x)\n",
    "    \n",
    "    feature_names=np.array(feature_names)\n",
    "    \n",
    "    sorted_tfidf_index = X_train_transformed_added.max(0).toarray()[0].argsort()\n",
    "    \n",
    "    smallest_cs=feature_names[sorted_tfidf_index[:10]].tolist()\n",
    "    largest_cs=feature_names[sorted_tfidf_index[:-11:-1]].tolist()\n",
    "    \n",
    "    \n",
    "    return score, smallest_cs, largest_cs #Your answer here"
   ]
  },
  {
   "cell_type": "code",
   "execution_count": 32,
   "metadata": {},
   "outputs": [
    {
     "name": "stderr",
     "output_type": "stream",
     "text": [
      "C:\\Users\\reson\\anaconda3\\envs\\working_env\\lib\\site-packages\\sklearn\\linear_model\\_logistic.py:762: ConvergenceWarning: lbfgs failed to converge (status=1):\n",
      "STOP: TOTAL NO. of ITERATIONS REACHED LIMIT.\n",
      "\n",
      "Increase the number of iterations (max_iter) or scale the data as shown in:\n",
      "    https://scikit-learn.org/stable/modules/preprocessing.html\n",
      "Please also refer to the documentation for alternative solver options:\n",
      "    https://scikit-learn.org/stable/modules/linear_model.html#logistic-regression\n",
      "  n_iter_i = _check_optimize_result(\n"
     ]
    },
    {
     "data": {
      "text/plain": [
       "(0.9813973821367333,\n",
       " ['getz', 'jay ', 'jea', 'jec', 'ject', 'ject ', 'jes', 'ji', 'jit', 'job'],\n",
       " ['length_of_doc',\n",
       "  'non_word_char_count',\n",
       "  'digit_count',\n",
       "  '. ',\n",
       "  't;',\n",
       "  ' . ',\n",
       "  ' .',\n",
       "  't ',\n",
       "  ' t',\n",
       "  '..'])"
      ]
     },
     "execution_count": 32,
     "metadata": {},
     "output_type": "execute_result"
    }
   ],
   "source": [
    "score, smallest_cs, largest_cs =answer_eleven()\n",
    "score, smallest_cs, largest_cs"
   ]
  },
  {
   "cell_type": "markdown",
   "metadata": {},
   "source": [
    "https://www.coursera.org/learn/python-text-mining/discussions/weeks/3/threads/89fce4aCEee3oBJxXb3ZyA\n",
    "\n",
    "change 3 new feature names and add them to the list of feature names\n",
    "     ['length_of_doc', 'digit_count', 'non_word_char_count']"
   ]
  },
  {
   "cell_type": "code",
   "execution_count": null,
   "metadata": {},
   "outputs": [],
   "source": []
  },
  {
   "cell_type": "code",
   "execution_count": null,
   "metadata": {},
   "outputs": [],
   "source": []
  },
  {
   "cell_type": "code",
   "execution_count": null,
   "metadata": {},
   "outputs": [],
   "source": []
  },
  {
   "cell_type": "code",
   "execution_count": null,
   "metadata": {},
   "outputs": [],
   "source": []
  }
 ],
 "metadata": {
  "coursera": {
   "course_slug": "python-text-mining",
   "graded_item_id": "Pn19K",
   "launcher_item_id": "y1juS",
   "part_id": "ctlgo"
  },
  "kernelspec": {
   "display_name": "Python 3",
   "language": "python",
   "name": "python3"
  },
  "language_info": {
   "codemirror_mode": {
    "name": "ipython",
    "version": 3
   },
   "file_extension": ".py",
   "mimetype": "text/x-python",
   "name": "python",
   "nbconvert_exporter": "python",
   "pygments_lexer": "ipython3",
   "version": "3.8.5"
  }
 },
 "nbformat": 4,
 "nbformat_minor": 2
}
